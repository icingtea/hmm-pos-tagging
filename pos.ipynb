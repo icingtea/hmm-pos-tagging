{
 "cells": [
  {
   "cell_type": "code",
   "execution_count": 65,
   "metadata": {},
   "outputs": [],
   "source": [
    "import nltk\n",
    "import pandas\n",
    "import sklearn \n",
    "import torch\n",
    "import seaborn\n",
    "import matplotlib.pyplot as plt"
   ]
  },
  {
   "cell_type": "code",
   "execution_count": null,
   "metadata": {},
   "outputs": [],
   "source": [
    "# downloading corpus + tagset\n",
    "\n",
    "nltk.download('brown')\n",
    "nltk.download('universal_tagset')"
   ]
  },
  {
   "cell_type": "code",
   "execution_count": 38,
   "metadata": {},
   "outputs": [
    {
     "name": "stdout",
     "output_type": "stream",
     "text": [
      "True\n"
     ]
    }
   ],
   "source": [
    "print(torch.cuda.is_available())"
   ]
  },
  {
   "cell_type": "code",
   "execution_count": 39,
   "metadata": {},
   "outputs": [],
   "source": [
    "# sentences\n",
    "\n",
    "sentences = nltk.corpus.brown.tagged_sents(tagset= 'universal')"
   ]
  },
  {
   "cell_type": "code",
   "execution_count": 40,
   "metadata": {},
   "outputs": [
    {
     "name": "stdout",
     "output_type": "stream",
     "text": [
      "[[('The', 'DET'), ('Fulton', 'NOUN'), ('County', 'NOUN'), ('Grand', 'ADJ'), ('Jury', 'NOUN'), ('said', 'VERB'), ('Friday', 'NOUN'), ('an', 'DET'), ('investigation', 'NOUN'), ('of', 'ADP'), (\"Atlanta's\", 'NOUN'), ('recent', 'ADJ'), ('primary', 'NOUN'), ('election', 'NOUN'), ('produced', 'VERB'), ('``', '.'), ('no', 'DET'), ('evidence', 'NOUN'), (\"''\", '.'), ('that', 'ADP'), ('any', 'DET'), ('irregularities', 'NOUN'), ('took', 'VERB'), ('place', 'NOUN'), ('.', '.')], [('The', 'DET'), ('jury', 'NOUN'), ('further', 'ADV'), ('said', 'VERB'), ('in', 'ADP'), ('term-end', 'NOUN'), ('presentments', 'NOUN'), ('that', 'ADP'), ('the', 'DET'), ('City', 'NOUN'), ('Executive', 'ADJ'), ('Committee', 'NOUN'), (',', '.'), ('which', 'DET'), ('had', 'VERB'), ('over-all', 'ADJ'), ('charge', 'NOUN'), ('of', 'ADP'), ('the', 'DET'), ('election', 'NOUN'), (',', '.'), ('``', '.'), ('deserves', 'VERB'), ('the', 'DET'), ('praise', 'NOUN'), ('and', 'CONJ'), ('thanks', 'NOUN'), ('of', 'ADP'), ('the', 'DET'), ('City', 'NOUN'), ('of', 'ADP'), ('Atlanta', 'NOUN'), (\"''\", '.'), ('for', 'ADP'), ('the', 'DET'), ('manner', 'NOUN'), ('in', 'ADP'), ('which', 'DET'), ('the', 'DET'), ('election', 'NOUN'), ('was', 'VERB'), ('conducted', 'VERB'), ('.', '.')], ...]\n"
     ]
    }
   ],
   "source": [
    "print(sentences)"
   ]
  },
  {
   "cell_type": "code",
   "execution_count": 41,
   "metadata": {},
   "outputs": [],
   "source": [
    "# test-train split\n",
    "\n",
    "training_sentences, testing_sentences = sklearn.model_selection.train_test_split(sentences, test_size = 0.001, random_state = 42)"
   ]
  },
  {
   "cell_type": "code",
   "execution_count": 42,
   "metadata": {},
   "outputs": [
    {
     "name": "stdout",
     "output_type": "stream",
     "text": [
      "1160238\n",
      "954\n"
     ]
    }
   ],
   "source": [
    "# isolating tagged words\n",
    "\n",
    "training_words_tagged = [word for sentence in training_sentences for word in sentence]\n",
    "testing_words_tagged = [word for sentence in testing_sentences for word in sentence]\n",
    "\n",
    "print(len(training_words_tagged))\n",
    "print(len(testing_words_tagged))\n"
   ]
  },
  {
   "cell_type": "code",
   "execution_count": 43,
   "metadata": {},
   "outputs": [
    {
     "name": "stdout",
     "output_type": "stream",
     "text": [
      "12 56043\n",
      "1160238\n",
      "1160238\n",
      "['NOUN', 'PRT', 'ADP', 'PRON', 'DET', 'NUM', 'CONJ', 'VERB', 'ADJ', 'X', 'ADV', '.']\n"
     ]
    }
   ],
   "source": [
    "# listing all the training words and tags in order\n",
    "\n",
    "training_taglist = [tag for word, tag in training_words_tagged]\n",
    "training_wordlist = [word for word, tag in training_words_tagged]\n",
    "\n",
    "# listing words and tags without duplication\n",
    "\n",
    "unique_taglist = list(set(training_taglist))\n",
    "unique_wordlist = list(set(training_wordlist))\n",
    "\n",
    "print(len(unique_taglist), len(unique_wordlist))\n",
    "print(len(training_taglist))\n",
    "print(len(training_wordlist))\n",
    "\n",
    "print(unique_taglist)"
   ]
  },
  {
   "cell_type": "code",
   "execution_count": 44,
   "metadata": {},
   "outputs": [],
   "source": [
    "# emission probability\n",
    "# this is the probability of a word given a tag\n",
    "\n",
    "def ep_word_tag(word, tag):\n",
    "    \n",
    "    # number of pairs containing the tag given\n",
    "\n",
    "    pairlist = [tup for tup in training_words_tagged if tup[1] == tag]\n",
    "    len_pairlist = len(pairlist)\n",
    "\n",
    "    # number of pairs containing the tag and the word given\n",
    "\n",
    "    matching_pairlist = [tup for tup in pairlist if tup[0] == word]\n",
    "    len_matchlist = len(matching_pairlist)\n",
    "\n",
    "    # avoid division by 0\n",
    "\n",
    "    if len_pairlist == 0:\n",
    "        return 0\n",
    "    \n",
    "    # emission probability\n",
    "\n",
    "    emission_probability = len_matchlist / len_pairlist \n",
    "    return emission_probability\n"
   ]
  },
  {
   "cell_type": "code",
   "execution_count": 45,
   "metadata": {},
   "outputs": [],
   "source": [
    "# transition probability\n",
    "# this is the probability of a tag given another tag in the previous index\n",
    "\n",
    "def tp_tag_tag(tag2, tag1):\n",
    "\n",
    "    # occurences of the previous tag (tag 1)\n",
    "\n",
    "    tag1_count = len([tag for tag in training_taglist if tag == tag1])\n",
    "\n",
    "    # initializing matchcount\n",
    "\n",
    "    tag1_tag2_count = 0\n",
    "\n",
    "    # instances of tag 2 occuring where tag 1 is directly before it\n",
    "\n",
    "    for idx in range(len(training_taglist) - 1):\n",
    "        if training_taglist[idx] == tag1 and training_taglist[idx + 1] == tag2:\n",
    "            tag1_tag2_count += 1\n",
    "\n",
    "    # avoiding division by 0\n",
    "\n",
    "    if tag1_count == 0:\n",
    "        return 0\n",
    "    \n",
    "    # transition probability\n",
    "    \n",
    "    transition_probability = tag1_tag2_count / tag1_count\n",
    "    return transition_probability"
   ]
  },
  {
   "cell_type": "code",
   "execution_count": 46,
   "metadata": {},
   "outputs": [],
   "source": [
    "# initializing a tensor of the shape needed for the transition matrix\n",
    "\n",
    "tag_transition_matrix = torch.zeros((len(unique_taglist), len(unique_taglist)), dtype = float).cuda()"
   ]
  },
  {
   "cell_type": "code",
   "execution_count": 47,
   "metadata": {},
   "outputs": [
    {
     "name": "stdout",
     "output_type": "stream",
     "text": [
      "tensor([[1.4974e-01, 1.7978e-02, 2.4475e-01, 2.0324e-02, 1.6257e-02, 8.1283e-03,\n",
      "         5.9873e-02, 1.5895e-01, 1.3002e-02, 3.4140e-04, 2.6717e-02, 2.8395e-01],\n",
      "        [3.5799e-02, 1.1240e-02, 9.0757e-02, 6.8780e-03, 8.3509e-02, 5.0998e-03,\n",
      "         1.2246e-02, 6.2255e-01, 1.8923e-02, 6.7103e-05, 3.6135e-02, 7.6799e-02],\n",
      "        [2.5843e-01, 1.4262e-02, 2.0311e-02, 6.9774e-02, 4.5565e-01, 3.0093e-02,\n",
      "         1.8873e-03, 4.1237e-02, 8.2626e-02, 4.6318e-04, 1.5506e-02, 9.7544e-03],\n",
      "        [8.8260e-03, 2.3719e-02, 5.5878e-02, 8.2173e-03, 1.7571e-02, 9.9420e-04,\n",
      "         1.1383e-02, 7.0622e-01, 9.4956e-03, 2.0290e-05, 5.3950e-02, 1.0372e-01],\n",
      "        [6.2645e-01, 2.0159e-03, 9.0716e-03, 9.9335e-03, 5.9455e-03, 9.7728e-03,\n",
      "         6.5736e-04, 6.4699e-02, 2.3975e-01, 1.4170e-03, 1.7515e-02, 1.2775e-02],\n",
      "        [3.8105e-01, 5.4494e-03, 1.3193e-01, 9.2169e-03, 1.4397e-02, 2.1865e-02,\n",
      "         3.8751e-02, 4.5815e-02, 5.9405e-02, 2.0183e-04, 2.0654e-02, 2.7126e-01],\n",
      "        [2.4363e-01, 2.5155e-02, 7.3287e-02, 6.7438e-02, 1.5130e-01, 1.8702e-02,\n",
      "         2.6230e-04, 1.9544e-01, 1.1206e-01, 5.5083e-04, 9.1360e-02, 2.0827e-02],\n",
      "        [9.7596e-02, 6.5593e-02, 1.6931e-01, 5.5176e-02, 1.6308e-01, 9.0097e-03,\n",
      "         1.4416e-02, 1.8423e-01, 5.7525e-02, 1.8622e-04, 1.0320e-01, 8.0677e-02],\n",
      "        [6.5272e-01, 1.9303e-02, 8.8520e-02, 3.9084e-03, 5.8567e-03, 6.9802e-03,\n",
      "         3.7626e-02, 1.7498e-02, 5.6953e-02, 5.0200e-04, 9.6934e-03, 1.0044e-01],\n",
      "        [5.4834e-02, 7.2150e-03, 5.3391e-02, 7.2150e-03, 5.0505e-03, 7.2150e-04,\n",
      "         2.3088e-02, 5.2670e-02, 2.8860e-03, 5.1154e-01, 7.2150e-03, 2.7417e-01],\n",
      "        [3.2801e-02, 2.8689e-02, 1.4185e-01, 4.8480e-02, 7.3646e-02, 1.3295e-02,\n",
      "         1.7299e-02, 2.4030e-01, 1.3636e-01, 8.8987e-05, 9.6889e-02, 1.7030e-01],\n",
      "        [1.3669e-01, 3.2277e-02, 1.1196e-01, 1.0705e-01, 1.4895e-01, 1.8441e-02,\n",
      "         8.8035e-02, 9.3759e-02, 4.1969e-02, 1.4514e-03, 7.8390e-02, 1.4102e-01]],\n",
      "       device='cuda:0', dtype=torch.float64)\n"
     ]
    }
   ],
   "source": [
    "# transition matrix w/ probabilities for each tag pair\n",
    "\n",
    "for i, tag1 in enumerate(unique_taglist):\n",
    "\n",
    "    for j, tag2 in enumerate(unique_taglist):\n",
    "        \n",
    "        tag_transition_matrix[i, j] = tp_tag_tag(tag2, tag1)\n",
    "\n",
    "print(tag_transition_matrix)"
   ]
  },
  {
   "cell_type": "code",
   "execution_count": 77,
   "metadata": {},
   "outputs": [
    {
     "data": {
      "image/png": "[encoded data removed]",
      "text/plain": [
       "<Figure size 1000x700 with 2 Axes>"
      ]
     },
     "metadata": {},
     "output_type": "display_data"
    }
   ],
   "source": [
    "plt.figure(figsize = (10, 7))\n",
    "seaborn.heatmap(pandas.DataFrame(tag_transition_matrix.cpu(), columns = unique_taglist, index = unique_taglist))\n",
    "plt.show()"
   ]
  },
  {
   "cell_type": "code",
   "execution_count": 48,
   "metadata": {},
   "outputs": [
    {
     "name": "stdout",
     "output_type": "stream",
     "text": [
      "{'NOUN': 0, 'PRT': 1, 'ADP': 2, 'PRON': 3, 'DET': 4, 'NUM': 5, 'CONJ': 6, 'VERB': 7, 'ADJ': 8, 'X': 9, 'ADV': 10, '.': 11}\n"
     ]
    }
   ],
   "source": [
    "# creating a dictionary to easily access the indices of each tag in the matrix\n",
    "\n",
    "tag_indices = {tag : idx for idx, tag in enumerate(unique_taglist)}\n",
    "print(tag_indices)"
   ]
  },
  {
   "cell_type": "code",
   "execution_count": 58,
   "metadata": {},
   "outputs": [],
   "source": [
    "# viterbi algorithm to find best fitting tag sequence\n",
    "\n",
    "def viterbi(input_sentence):\n",
    "\n",
    "    # specifying dimensions\n",
    "\n",
    "    sentence_length = len(input_sentence)\n",
    "    tags_length = len(unique_taglist)\n",
    "    \n",
    "    # initializing state_probabilities to store probabilities per word\n",
    "\n",
    "    state_probabilities = torch.zeros(sentence_length, tags_length,).cuda()\n",
    "\n",
    "    #initializing max_states to store max tag probability for word\n",
    "\n",
    "    max_states = torch.zeros(sentence_length, dtype = int).cuda()\n",
    "\n",
    "    # calculate tag probabilites per word\n",
    "    \n",
    "    for idx, word in enumerate(input_sentence):\n",
    "        \n",
    "        if idx == 0:\n",
    "\n",
    "            # specifying the previous tag (typically a punctuation) for the first word in the sentence\n",
    "\n",
    "            prev_tag_idx = tag_indices['.']\n",
    "        else:\n",
    "\n",
    "            # specifying the previous tag by singling out the index of the highest probability tag\n",
    "\n",
    "            prev_tag_idx = torch.argmax(state_probabilities[idx - 1])\n",
    "        \n",
    "        for tag_idx, tag in enumerate(unique_taglist):\n",
    "\n",
    "            #calculating state probabilities and filling up the tensor\n",
    "\n",
    "            transition_prob = tag_transition_matrix[prev_tag_idx][tag_idx]\n",
    "            state_probabilities[idx][tag_idx] = transition_prob * ep_word_tag(word, tag)\n",
    "\n",
    "        print(f\"{idx + 1} / {sentence_length}\", end = \"\\r\")\n",
    "\n",
    "    # evaluating the highest probability tag index per word\n",
    "    \n",
    "    max_states = torch.argmax(state_probabilities, dim=1)\n",
    "    state = [unique_taglist[idx] for idx in max_states]\n",
    "    \n",
    "    return zip(input_sentence, state)\n"
   ]
  },
  {
   "cell_type": "code",
   "execution_count": 59,
   "metadata": {},
   "outputs": [],
   "source": [
    "# listing the testing tags and words in order\n",
    "\n",
    "test_taglist = [tag for word, tag in testing_words_tagged]\n",
    "test_wordlist = [word for word, tag in testing_words_tagged]"
   ]
  },
  {
   "cell_type": "code",
   "execution_count": 60,
   "metadata": {},
   "outputs": [
    {
     "name": "stdout",
     "output_type": "stream",
     "text": [
      "954 / 954\r"
     ]
    }
   ],
   "source": [
    "# feeding the testing wordlist into viterbi, treating it as a large sentence\n",
    "# this took a really long time to run for a larger test set, so i made it relatively a lot smaller\n",
    "\n",
    "prediction_dict = viterbi(test_wordlist)\n",
    "\n",
    "# listing the predicted tags in order\n",
    "\n",
    "predicted_tags = [tag for word, tag in prediction_dict]"
   ]
  },
  {
   "cell_type": "code",
   "execution_count": 61,
   "metadata": {},
   "outputs": [
    {
     "name": "stdout",
     "output_type": "stream",
     "text": [
      "954\n",
      "954\n",
      "954\n"
     ]
    }
   ],
   "source": [
    "# lengths of the wordlist, true taglist, and predicted taglist; they should all be equal\n",
    "\n",
    "print(len(test_wordlist))\n",
    "print(len(test_taglist))\n",
    "print(len(predicted_tags))"
   ]
  },
  {
   "cell_type": "code",
   "execution_count": 62,
   "metadata": {},
   "outputs": [
    {
     "data": {
      "text/html": [
       "<div>\n",
       "<style scoped>\n",
       "    .dataframe tbody tr th:only-of-type {\n",
       "        vertical-align: middle;\n",
       "    }\n",
       "\n",
       "    .dataframe tbody tr th {\n",
       "        vertical-align: top;\n",
       "    }\n",
       "\n",
       "    .dataframe thead th {\n",
       "        text-align: right;\n",
       "    }\n",
       "</style>\n",
       "<table border=\"1\" class=\"dataframe\">\n",
       "  <thead>\n",
       "    <tr style=\"text-align: right;\">\n",
       "      <th></th>\n",
       "      <th>words</th>\n",
       "      <th>true_tags</th>\n",
       "      <th>predicted_tags</th>\n",
       "    </tr>\n",
       "  </thead>\n",
       "  <tbody>\n",
       "    <tr>\n",
       "      <th>0</th>\n",
       "      <td>Open</td>\n",
       "      <td>ADJ</td>\n",
       "      <td>NOUN</td>\n",
       "    </tr>\n",
       "    <tr>\n",
       "      <th>1</th>\n",
       "      <td>market</td>\n",
       "      <td>NOUN</td>\n",
       "      <td>NOUN</td>\n",
       "    </tr>\n",
       "    <tr>\n",
       "      <th>2</th>\n",
       "      <td>policy</td>\n",
       "      <td>NOUN</td>\n",
       "      <td>NOUN</td>\n",
       "    </tr>\n",
       "    <tr>\n",
       "      <th>3</th>\n",
       "      <td>And</td>\n",
       "      <td>CONJ</td>\n",
       "      <td>CONJ</td>\n",
       "    </tr>\n",
       "    <tr>\n",
       "      <th>4</th>\n",
       "      <td>you</td>\n",
       "      <td>PRON</td>\n",
       "      <td>PRON</td>\n",
       "    </tr>\n",
       "    <tr>\n",
       "      <th>...</th>\n",
       "      <td>...</td>\n",
       "      <td>...</td>\n",
       "      <td>...</td>\n",
       "    </tr>\n",
       "    <tr>\n",
       "      <th>949</th>\n",
       "      <td>reproducible</td>\n",
       "      <td>ADJ</td>\n",
       "      <td>ADJ</td>\n",
       "    </tr>\n",
       "    <tr>\n",
       "      <th>950</th>\n",
       "      <td>rates</td>\n",
       "      <td>NOUN</td>\n",
       "      <td>NOUN</td>\n",
       "    </tr>\n",
       "    <tr>\n",
       "      <th>951</th>\n",
       "      <td>of</td>\n",
       "      <td>ADP</td>\n",
       "      <td>ADP</td>\n",
       "    </tr>\n",
       "    <tr>\n",
       "      <th>952</th>\n",
       "      <td>reaction</td>\n",
       "      <td>NOUN</td>\n",
       "      <td>NOUN</td>\n",
       "    </tr>\n",
       "    <tr>\n",
       "      <th>953</th>\n",
       "      <td>.</td>\n",
       "      <td>.</td>\n",
       "      <td>.</td>\n",
       "    </tr>\n",
       "  </tbody>\n",
       "</table>\n",
       "<p>954 rows × 3 columns</p>\n",
       "</div>"
      ],
      "text/plain": [
       "            words true_tags predicted_tags\n",
       "0            Open       ADJ           NOUN\n",
       "1          market      NOUN           NOUN\n",
       "2          policy      NOUN           NOUN\n",
       "3             And      CONJ           CONJ\n",
       "4             you      PRON           PRON\n",
       "..            ...       ...            ...\n",
       "949  reproducible       ADJ            ADJ\n",
       "950         rates      NOUN           NOUN\n",
       "951            of       ADP            ADP\n",
       "952      reaction      NOUN           NOUN\n",
       "953             .         .              .\n",
       "\n",
       "[954 rows x 3 columns]"
      ]
     },
     "execution_count": 62,
     "metadata": {},
     "output_type": "execute_result"
    }
   ],
   "source": [
    "# converting to a dataframe\n",
    "\n",
    "data = {\"words\" : test_wordlist, \"true_tags\" : test_taglist, \"predicted_tags\" : predicted_tags}\n",
    "\n",
    "test_df = pandas.DataFrame(data)\n",
    "test_df"
   ]
  },
  {
   "cell_type": "code",
   "execution_count": 63,
   "metadata": {},
   "outputs": [
    {
     "data": {
      "text/plain": [
       "0.9570230607966457"
      ]
     },
     "execution_count": 63,
     "metadata": {},
     "output_type": "execute_result"
    }
   ],
   "source": [
    "#evaluating accuracy\n",
    "\n",
    "sklearn.metrics.accuracy_score(test_df['true_tags'], test_df['predicted_tags'])"
   ]
  }
 ],
 "metadata": {
  "kernelspec": {
   "display_name": "Python 3",
   "language": "python",
   "name": "python3"
  },
  "language_info": {
   "codemirror_mode": {
    "name": "ipython",
    "version": 3
   },
   "file_extension": ".py",
   "mimetype": "text/x-python",
   "name": "python",
   "nbconvert_exporter": "python",
   "pygments_lexer": "ipython3",
   "version": "3.11.7"
  }
 },
 "nbformat": 4,
 "nbformat_minor": 2
}
