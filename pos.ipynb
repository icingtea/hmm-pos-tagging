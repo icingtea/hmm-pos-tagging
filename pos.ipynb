{
 "cells": [
  {
   "cell_type": "code",
   "execution_count": 20,
   "metadata": {},
   "outputs": [],
   "source": [
    "import nltk\n",
    "import pandas\n",
    "import sklearn \n",
    "import torch\n",
    "import seaborn\n",
    "import matplotlib.pyplot as plt"
   ]
  },
  {
   "cell_type": "code",
   "execution_count": null,
   "metadata": {},
   "outputs": [],
   "source": [
    "# downloading corpus + tagset\n",
    "\n",
    "nltk.download('brown')\n",
    "nltk.download('universal_tagset')"
   ]
  },
  {
   "cell_type": "code",
   "execution_count": 22,
   "metadata": {},
   "outputs": [],
   "source": [
    "# sentences\n",
    "\n",
    "sentences = nltk.corpus.brown.tagged_sents(tagset = 'universal')"
   ]
  },
  {
   "cell_type": "code",
   "execution_count": 23,
   "metadata": {},
   "outputs": [
    {
     "name": "stdout",
     "output_type": "stream",
     "text": [
      "[[('The', 'DET'), ('Fulton', 'NOUN'), ('County', 'NOUN'), ('Grand', 'ADJ'), ('Jury', 'NOUN'), ('said', 'VERB'), ('Friday', 'NOUN'), ('an', 'DET'), ('investigation', 'NOUN'), ('of', 'ADP'), (\"Atlanta's\", 'NOUN'), ('recent', 'ADJ'), ('primary', 'NOUN'), ('election', 'NOUN'), ('produced', 'VERB'), ('``', '.'), ('no', 'DET'), ('evidence', 'NOUN'), (\"''\", '.'), ('that', 'ADP'), ('any', 'DET'), ('irregularities', 'NOUN'), ('took', 'VERB'), ('place', 'NOUN'), ('.', '.')], [('The', 'DET'), ('jury', 'NOUN'), ('further', 'ADV'), ('said', 'VERB'), ('in', 'ADP'), ('term-end', 'NOUN'), ('presentments', 'NOUN'), ('that', 'ADP'), ('the', 'DET'), ('City', 'NOUN'), ('Executive', 'ADJ'), ('Committee', 'NOUN'), (',', '.'), ('which', 'DET'), ('had', 'VERB'), ('over-all', 'ADJ'), ('charge', 'NOUN'), ('of', 'ADP'), ('the', 'DET'), ('election', 'NOUN'), (',', '.'), ('``', '.'), ('deserves', 'VERB'), ('the', 'DET'), ('praise', 'NOUN'), ('and', 'CONJ'), ('thanks', 'NOUN'), ('of', 'ADP'), ('the', 'DET'), ('City', 'NOUN'), ('of', 'ADP'), ('Atlanta', 'NOUN'), (\"''\", '.'), ('for', 'ADP'), ('the', 'DET'), ('manner', 'NOUN'), ('in', 'ADP'), ('which', 'DET'), ('the', 'DET'), ('election', 'NOUN'), ('was', 'VERB'), ('conducted', 'VERB'), ('.', '.')], ...]\n"
     ]
    }
   ],
   "source": [
    "print(sentences)"
   ]
  },
  {
   "cell_type": "code",
   "execution_count": 24,
   "metadata": {},
   "outputs": [],
   "source": [
    "# test-train split\n",
    "\n",
    "training_sentences, testing_sentences = sklearn.model_selection.train_test_split(sentences, test_size = 0.01, random_state = 42)"
   ]
  },
  {
   "cell_type": "code",
   "execution_count": 25,
   "metadata": {},
   "outputs": [
    {
     "name": "stdout",
     "output_type": "stream",
     "text": [
      "1150045\n",
      "11147\n"
     ]
    }
   ],
   "source": [
    "# isolating tagged words\n",
    "\n",
    "training_words_tagged = [word for sentence in training_sentences for word in sentence]\n",
    "testing_words_tagged = [word for sentence in testing_sentences for word in sentence]\n",
    "\n",
    "print(len(training_words_tagged))\n",
    "print(len(testing_words_tagged))\n"
   ]
  },
  {
   "cell_type": "code",
   "execution_count": 26,
   "metadata": {},
   "outputs": [
    {
     "name": "stdout",
     "output_type": "stream",
     "text": [
      "12 55832\n",
      "1150045\n",
      "1150045\n",
      "['X', 'CONJ', 'NUM', 'VERB', 'ADP', 'DET', '.', 'PRT', 'NOUN', 'ADJ', 'ADV', 'PRON']\n"
     ]
    }
   ],
   "source": [
    "# listing all the training words and tags in order\n",
    "\n",
    "training_taglist = [tag for word, tag in training_words_tagged]\n",
    "training_wordlist = [word for word, tag in training_words_tagged]\n",
    "\n",
    "# listing words and tags without duplication\n",
    "\n",
    "unique_taglist = list(set(training_taglist))\n",
    "unique_wordlist = list(set(training_wordlist))\n",
    "\n",
    "print(len(unique_taglist), len(unique_wordlist))\n",
    "print(len(training_taglist))\n",
    "print(len(training_wordlist))\n",
    "\n",
    "print(unique_taglist)"
   ]
  },
  {
   "cell_type": "code",
   "execution_count": 27,
   "metadata": {},
   "outputs": [],
   "source": [
    "# emission probability\n",
    "# this is the probability of a word given a tag\n",
    "\n",
    "def ep_word_tag(word, tag):\n",
    "    \n",
    "    # number of pairs containing the tag given\n",
    "\n",
    "    pairlist = [tup for tup in training_words_tagged if tup[1] == tag]\n",
    "    len_pairlist = len(pairlist)\n",
    "\n",
    "    # number of pairs containing the tag and the word given\n",
    "\n",
    "    matching_pairlist = [tup for tup in pairlist if tup[0] == word]\n",
    "    len_matchlist = len(matching_pairlist)\n",
    "\n",
    "    # avoid division by 0\n",
    "\n",
    "    if len_pairlist == 0:\n",
    "        return 0\n",
    "    \n",
    "    # emission probability\n",
    "\n",
    "    emission_probability = len_matchlist / len_pairlist \n",
    "    return emission_probability\n"
   ]
  },
  {
   "cell_type": "code",
   "execution_count": 28,
   "metadata": {},
   "outputs": [],
   "source": [
    "# transition probability\n",
    "# this is the probability of a tag given another tag in the previous index\n",
    "\n",
    "def tp_tag_tag(tag2, tag1):\n",
    "\n",
    "    # occurences of the previous tag (tag 1)\n",
    "\n",
    "    tag1_count = len([tag for tag in training_taglist if tag == tag1])\n",
    "\n",
    "    # initializing matchcount\n",
    "\n",
    "    tag1_tag2_count = 0\n",
    "\n",
    "    # instances of tag 2 occuring where tag 1 is directly before it\n",
    "\n",
    "    for idx in range(len(training_taglist) - 1):\n",
    "        \n",
    "        if training_taglist[idx] == tag1 and training_taglist[idx + 1] == tag2:\n",
    "            tag1_tag2_count += 1\n",
    "\n",
    "    # avoiding division by 0\n",
    "\n",
    "    if tag1_count == 0:\n",
    "        return 0\n",
    "    \n",
    "    # transition probability\n",
    "    \n",
    "    transition_probability = tag1_tag2_count / tag1_count\n",
    "    return transition_probability"
   ]
  },
  {
   "cell_type": "code",
   "execution_count": 29,
   "metadata": {},
   "outputs": [],
   "source": [
    "# initializing a tensor of the shape needed for the transition matrix\n",
    "\n",
    "tag_transition_matrix = torch.zeros((len(unique_taglist), len(unique_taglist)), dtype = float)"
   ]
  },
  {
   "cell_type": "code",
   "execution_count": 30,
   "metadata": {},
   "outputs": [
    {
     "name": "stdout",
     "output_type": "stream",
     "text": [
      "tensor([[5.1243e-01, 2.1930e-02, 7.3099e-04, 5.2632e-02, 5.3363e-02, 5.1170e-03,\n",
      "         2.7412e-01, 7.3099e-03, 5.4825e-02, 2.9240e-03, 7.3099e-03, 7.3099e-03],\n",
      "        [5.2931e-04, 2.6466e-04, 1.8711e-02, 1.9569e-01, 7.3389e-02, 1.5099e-01,\n",
      "         2.0881e-02, 2.5301e-02, 2.4335e-01, 1.1200e-01, 9.1438e-02, 6.7461e-02],\n",
      "        [2.0353e-04, 3.8806e-02, 2.1710e-02, 4.5522e-02, 1.3229e-01, 1.4450e-02,\n",
      "         2.7083e-01, 5.4274e-03, 3.8155e-01, 5.9227e-02, 2.0760e-02, 9.2266e-03],\n",
      "        [1.8236e-04, 1.4450e-02, 9.0129e-03, 1.8413e-01, 1.6936e-01, 1.6320e-01,\n",
      "         8.0735e-02, 6.5605e-02, 9.7490e-02, 5.7559e-02, 1.0305e-01, 5.5232e-02],\n",
      "        [4.6722e-04, 1.8619e-03, 3.0132e-02, 4.1185e-02, 2.0321e-02, 4.5559e-01,\n",
      "         9.7211e-03, 1.4226e-02, 2.5868e-01, 8.2517e-02, 1.5544e-02, 6.9756e-02],\n",
      "        [1.4077e-03, 6.5595e-04, 9.7729e-03, 6.4674e-02, 9.0580e-03, 5.9773e-03,\n",
      "         1.2736e-02, 2.0194e-03, 6.2649e-01, 2.3973e-01, 1.7526e-02, 9.9498e-03],\n",
      "        [1.4368e-03, 8.8014e-02, 1.8439e-02, 9.3871e-02, 1.1197e-01, 1.4870e-01,\n",
      "         1.4112e-01, 3.2287e-02, 1.3682e-01, 4.1941e-02, 7.8408e-02, 1.0699e-01],\n",
      "        [3.3829e-05, 1.2246e-02, 5.0744e-03, 6.2300e-01, 9.0663e-02, 8.3254e-02,\n",
      "         7.6759e-02, 1.1265e-02, 3.5792e-02, 1.8911e-02, 3.6062e-02, 6.9350e-03],\n",
      "        [3.4442e-04, 5.9852e-02, 8.1305e-03, 1.5886e-01, 2.4476e-01, 1.6279e-02,\n",
      "         2.8398e-01, 1.8027e-02, 1.4966e-01, 1.3033e-02, 2.6707e-02, 2.0365e-02],\n",
      "        [5.0656e-04, 3.7666e-02, 6.9470e-03, 1.7476e-02, 8.8406e-02, 5.8616e-03,\n",
      "         1.0033e-01, 1.9358e-02, 6.5282e-01, 5.6987e-02, 9.7210e-03, 3.9198e-03],\n",
      "        [8.9799e-05, 1.7277e-02, 1.3380e-02, 2.4027e-01, 1.4197e-01, 7.3653e-02,\n",
      "         1.7020e-01, 2.8628e-02, 3.2830e-02, 1.3631e-01, 9.6875e-02, 4.8509e-02],\n",
      "        [2.0461e-05, 1.1376e-02, 1.0026e-03, 7.0603e-01, 5.5920e-02, 1.7494e-02,\n",
      "         1.0380e-01, 2.3674e-02, 8.8802e-03, 9.5554e-03, 5.3997e-02, 8.2459e-03]],\n",
      "       dtype=torch.float64)\n"
     ]
    }
   ],
   "source": [
    "# transition matrix w/ probabilities for each tag pair\n",
    "\n",
    "for i, tag1 in enumerate(unique_taglist):\n",
    "\n",
    "    for j, tag2 in enumerate(unique_taglist):\n",
    "        \n",
    "        tag_transition_matrix[i, j] = tp_tag_tag(tag2, tag1)\n",
    "\n",
    "print(tag_transition_matrix)"
   ]
  },
  {
   "cell_type": "code",
   "execution_count": 31,
   "metadata": {},
   "outputs": [
    {
     "data": {
      "image/png": "[encoded data removed]",
      "text/plain": [
       "<Figure size 1000x700 with 2 Axes>"
      ]
     },
     "metadata": {},
     "output_type": "display_data"
    }
   ],
   "source": [
    "# heatmap of transition probabilities\n",
    "\n",
    "plt.figure(figsize = (10, 7))\n",
    "seaborn.heatmap(pandas.DataFrame(tag_transition_matrix, columns = unique_taglist, index = unique_taglist))\n",
    "plt.show()"
   ]
  },
  {
   "cell_type": "code",
   "execution_count": 32,
   "metadata": {},
   "outputs": [
    {
     "name": "stdout",
     "output_type": "stream",
     "text": [
      "{'X': 0, 'CONJ': 1, 'NUM': 2, 'VERB': 3, 'ADP': 4, 'DET': 5, '.': 6, 'PRT': 7, 'NOUN': 8, 'ADJ': 9, 'ADV': 10, 'PRON': 11}\n"
     ]
    }
   ],
   "source": [
    "# creating a dictionary to easily access the indices of each tag in the matrix\n",
    "\n",
    "tag_indices = {tag : idx for idx, tag in enumerate(unique_taglist)}\n",
    "print(tag_indices)"
   ]
  },
  {
   "cell_type": "code",
   "execution_count": 33,
   "metadata": {},
   "outputs": [],
   "source": [
    "# viterbi algorithm to find best fitting tag sequence\n",
    "\n",
    "def viterbi(input_sentence):\n",
    "\n",
    "    # specifying dimensions\n",
    "\n",
    "    sentence_length = len(input_sentence)\n",
    "    tags_length = len(unique_taglist)\n",
    "    \n",
    "    # initializing state_probabilities to store probabilities per word\n",
    "\n",
    "    state_probabilities = torch.zeros(sentence_length, tags_length)\n",
    "    max_states = torch.zeros(sentence_length, dtype = int)\n",
    "\n",
    "    # calculate tag probabilites per word\n",
    "    \n",
    "    for idx, word in enumerate(input_sentence):\n",
    "        \n",
    "        # specifying the index of the previous most likely tag/state\n",
    "\n",
    "        if idx == 0:\n",
    "            prev_tag_idx = tag_indices['.']\n",
    "        else:\n",
    "            prev_tag_idx = torch.argmax(state_probabilities[idx - 1])\n",
    "        \n",
    "        for tag_idx, tag in enumerate(unique_taglist):\n",
    "\n",
    "            # calculating state probabilities and filling up the tensor\n",
    "\n",
    "            transition_prob = tag_transition_matrix[prev_tag_idx][tag_idx]\n",
    "            state_probabilities[idx][tag_idx] = transition_prob * ep_word_tag(word, tag)\n",
    "\n",
    "        print(f\"{idx + 1} / {sentence_length}\", end = \"\\r\")\n",
    "\n",
    "    # evaluating the highest probability tag index per word\n",
    "    \n",
    "    max_states = torch.argmax(state_probabilities, dim=1)\n",
    "    state = [unique_taglist[idx] for idx in max_states]\n",
    "    \n",
    "    return zip(input_sentence, state)\n"
   ]
  },
  {
   "cell_type": "code",
   "execution_count": 34,
   "metadata": {},
   "outputs": [],
   "source": [
    "# listing the testing tags and words in order\n",
    "\n",
    "test_taglist = [tag for word, tag in testing_words_tagged]\n",
    "test_wordlist = [word for word, tag in testing_words_tagged]"
   ]
  },
  {
   "cell_type": "code",
   "execution_count": 35,
   "metadata": {},
   "outputs": [
    {
     "name": "stdout",
     "output_type": "stream",
     "text": [
      "11147 / 11147\r"
     ]
    }
   ],
   "source": [
    "# feeding the testing wordlist into viterbi, treating it as a large sentence\n",
    "# this took a really long time to run for a larger test set, so i made it relatively a lot smaller\n",
    "\n",
    "prediction_dict = viterbi(test_wordlist)\n",
    "\n",
    "# listing the predicted tags in order\n",
    "\n",
    "predicted_tags = [tag for word, tag in prediction_dict]"
   ]
  },
  {
   "cell_type": "code",
   "execution_count": 36,
   "metadata": {},
   "outputs": [
    {
     "name": "stdout",
     "output_type": "stream",
     "text": [
      "11147\n",
      "11147\n",
      "11147\n"
     ]
    }
   ],
   "source": [
    "# lengths of the wordlist, true taglist, and predicted taglist; they should all be equal\n",
    "\n",
    "print(len(test_wordlist))\n",
    "print(len(test_taglist))\n",
    "print(len(predicted_tags))"
   ]
  },
  {
   "cell_type": "code",
   "execution_count": 37,
   "metadata": {},
   "outputs": [
    {
     "data": {
      "text/html": [
       "<div>\n",
       "<style scoped>\n",
       "    .dataframe tbody tr th:only-of-type {\n",
       "        vertical-align: middle;\n",
       "    }\n",
       "\n",
       "    .dataframe tbody tr th {\n",
       "        vertical-align: top;\n",
       "    }\n",
       "\n",
       "    .dataframe thead th {\n",
       "        text-align: right;\n",
       "    }\n",
       "</style>\n",
       "<table border=\"1\" class=\"dataframe\">\n",
       "  <thead>\n",
       "    <tr style=\"text-align: right;\">\n",
       "      <th></th>\n",
       "      <th>words</th>\n",
       "      <th>true_tags</th>\n",
       "      <th>predicted_tags</th>\n",
       "    </tr>\n",
       "  </thead>\n",
       "  <tbody>\n",
       "    <tr>\n",
       "      <th>0</th>\n",
       "      <td>Open</td>\n",
       "      <td>ADJ</td>\n",
       "      <td>NOUN</td>\n",
       "    </tr>\n",
       "    <tr>\n",
       "      <th>1</th>\n",
       "      <td>market</td>\n",
       "      <td>NOUN</td>\n",
       "      <td>NOUN</td>\n",
       "    </tr>\n",
       "    <tr>\n",
       "      <th>2</th>\n",
       "      <td>policy</td>\n",
       "      <td>NOUN</td>\n",
       "      <td>NOUN</td>\n",
       "    </tr>\n",
       "    <tr>\n",
       "      <th>3</th>\n",
       "      <td>And</td>\n",
       "      <td>CONJ</td>\n",
       "      <td>CONJ</td>\n",
       "    </tr>\n",
       "    <tr>\n",
       "      <th>4</th>\n",
       "      <td>you</td>\n",
       "      <td>PRON</td>\n",
       "      <td>PRON</td>\n",
       "    </tr>\n",
       "    <tr>\n",
       "      <th>...</th>\n",
       "      <td>...</td>\n",
       "      <td>...</td>\n",
       "      <td>...</td>\n",
       "    </tr>\n",
       "    <tr>\n",
       "      <th>11142</th>\n",
       "      <td>left</td>\n",
       "      <td>VERB</td>\n",
       "      <td>VERB</td>\n",
       "    </tr>\n",
       "    <tr>\n",
       "      <th>11143</th>\n",
       "      <td>a</td>\n",
       "      <td>DET</td>\n",
       "      <td>DET</td>\n",
       "    </tr>\n",
       "    <tr>\n",
       "      <th>11144</th>\n",
       "      <td>few</td>\n",
       "      <td>ADJ</td>\n",
       "      <td>ADJ</td>\n",
       "    </tr>\n",
       "    <tr>\n",
       "      <th>11145</th>\n",
       "      <td>things</td>\n",
       "      <td>NOUN</td>\n",
       "      <td>NOUN</td>\n",
       "    </tr>\n",
       "    <tr>\n",
       "      <th>11146</th>\n",
       "      <td>.</td>\n",
       "      <td>.</td>\n",
       "      <td>.</td>\n",
       "    </tr>\n",
       "  </tbody>\n",
       "</table>\n",
       "<p>11147 rows × 3 columns</p>\n",
       "</div>"
      ],
      "text/plain": [
       "        words true_tags predicted_tags\n",
       "0        Open       ADJ           NOUN\n",
       "1      market      NOUN           NOUN\n",
       "2      policy      NOUN           NOUN\n",
       "3         And      CONJ           CONJ\n",
       "4         you      PRON           PRON\n",
       "...       ...       ...            ...\n",
       "11142    left      VERB           VERB\n",
       "11143       a       DET            DET\n",
       "11144     few       ADJ            ADJ\n",
       "11145  things      NOUN           NOUN\n",
       "11146       .         .              .\n",
       "\n",
       "[11147 rows x 3 columns]"
      ]
     },
     "execution_count": 37,
     "metadata": {},
     "output_type": "execute_result"
    }
   ],
   "source": [
    "# converting to a dataframe\n",
    "\n",
    "data = {\"words\" : test_wordlist, \"true_tags\" : test_taglist, \"predicted_tags\" : predicted_tags}\n",
    "\n",
    "test_df = pandas.DataFrame(data)\n",
    "test_df"
   ]
  },
  {
   "cell_type": "code",
   "execution_count": 38,
   "metadata": {},
   "outputs": [
    {
     "data": {
      "text/plain": [
       "0.9415089261684758"
      ]
     },
     "execution_count": 38,
     "metadata": {},
     "output_type": "execute_result"
    }
   ],
   "source": [
    "# evaluating accuracy\n",
    "\n",
    "sklearn.metrics.accuracy_score(test_df['true_tags'], test_df['predicted_tags'])"
   ]
  }
 ],
 "metadata": {
  "kernelspec": {
   "display_name": "Python 3",
   "language": "python",
   "name": "python3"
  },
  "language_info": {
   "codemirror_mode": {
    "name": "ipython",
    "version": 3
   },
   "file_extension": ".py",
   "mimetype": "text/x-python",
   "name": "python",
   "nbconvert_exporter": "python",
   "pygments_lexer": "ipython3",
   "version": "3.11.7"
  }
 },
 "nbformat": 4,
 "nbformat_minor": 2
}
